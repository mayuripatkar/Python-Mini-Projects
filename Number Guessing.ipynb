{
 "cells": [
  {
   "cell_type": "markdown",
   "metadata": {},
   "source": [
    "# Number Guessing"
   ]
  },
  {
   "cell_type": "markdown",
   "metadata": {},
   "source": [
    "  You can even call it a mini-game. Make a program in which the computer randomly chooses a number between 1 to 10, 1 to 100, or any range. Then give users a hint to guess the number. Every time the user guesses wrong, he gets another clue, and his score gets reduced. The clue can be multiples, divisible, greater or smaller, or a combination of all."
   ]
  },
  {
   "cell_type": "code",
   "execution_count": 5,
   "metadata": {},
   "outputs": [
    {
     "name": "stdout",
     "output_type": "stream",
     "text": [
      "Guess a number between 1 to 100:12\n",
      "Guess higher\n",
      "Guess a number between 1 to 100:23\n",
      "Guess higher\n",
      "Guess a number between 1 to 100:34\n",
      "Guess higher\n",
      "Guess a number between 1 to 100:80\n",
      "Guess lower\n",
      "Guess a number between 1 to 100:76\n",
      "Guess lower\n",
      "Guess a number between 1 to 100:45\n",
      "Guess higher\n",
      "Guess a number between 1 to 100:23\n",
      "Guess higher\n",
      "Guess a number between 1 to 100:34\n",
      "Guess higher\n",
      "Guess a number between 1 to 100:45\n",
      "Guess higher\n",
      "Guess a number between 1 to 100:56\n",
      "Congrats you guessed correctly!\n",
      "Game Over , you took  10 the number was  56 and scored 10\n"
     ]
    }
   ],
   "source": [
    "import random\n",
    "\n",
    "number = random.randint(1,100)\n",
    "attempts = 0\n",
    "count = 100\n",
    "while attempts<10:\n",
    "    attempts +=1\n",
    "    guess = int(input(\"Guess a number between 1 to 100:\"))\n",
    "    if (guess < number):\n",
    "        count -=10\n",
    "        print(\"Guess higher\")   \n",
    "    elif (guess > number):\n",
    "        count -=10\n",
    "        print(\"Guess lower\")\n",
    "    else:\n",
    "        print(\"Congrats you guessed correctly!\")\n",
    "        break\n",
    "print(\"Game Over , you took \",attempts,\"the number was \",number,\"and scored\",count)\n"
   ]
  }
 ],
 "metadata": {
  "kernelspec": {
   "display_name": "Python 3",
   "language": "python",
   "name": "python3"
  },
  "language_info": {
   "codemirror_mode": {
    "name": "ipython",
    "version": 3
   },
   "file_extension": ".py",
   "mimetype": "text/x-python",
   "name": "python",
   "nbconvert_exporter": "python",
   "pygments_lexer": "ipython3",
   "version": "3.7.9"
  }
 },
 "nbformat": 4,
 "nbformat_minor": 4
}
