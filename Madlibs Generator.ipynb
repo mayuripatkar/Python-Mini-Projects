{
 "cells": [
  {
   "cell_type": "markdown",
   "metadata": {},
   "source": [
    "# Madlibs Generator\n"
   ]
  },
  {
   "cell_type": "markdown",
   "metadata": {},
   "source": [
    "The input could be anything, an adjective, a noun, a pronoun, etc.Once all the inputs are entered, the application will take\n",
    "the data and arrange the inputs into a story template form."
   ]
  },
  {
   "cell_type": "code",
   "execution_count": 2,
   "metadata": {},
   "outputs": [
    {
     "name": "stdout",
     "output_type": "stream",
     "text": [
      "Hey! the story is ready...\n",
      "Hello my name is astronaut Nehal.I am on my way to Milky Way.I will be going for 12 days.I am very afraid about the trip but I will miss my home-town.I have heard that the atmosphere there is safe.Luckily my Cousin packed me a jacket to keep me cold When I land on the planet I will run for joy.I am excited to walk on another planet.I could notbe more harsh for the trip!!!\n"
     ]
    }
   ],
   "source": [
    "#Madlibs Generator\n",
    "import random\n",
    "import copy\n",
    "#Madlibs story\n",
    "madlibs=(\n",
    "    \"Hello my name is astronaut {}.I am on my way \"+\n",
    "    \"to {}.I will be going for {} \"+\n",
    "    \"days.I am very {} about the trip but I will miss my \"+\n",
    "    \"{}.I have heard that the atmosphere there is \"+\n",
    "    \"{}.Luckily my {} packed me a jacket to \"+\n",
    "    \"keep me {} When I land on the planet I will \"+\n",
    "    \"{} for joy.I am {} to walk on \"+\n",
    "    \"another planet.I could notbe more {} for the trip!!!\"\n",
    ")\n",
    "#Dictionary that consists of words that can be added within the madlibs story\n",
    "global_dict={\n",
    "    'Name':['Mayuri','Nehal','Samarth','Mandar','Gauri','Bhakti'],\n",
    "    'Planet':['Mercury','Venus','Mars','Jupiter','Saturn','Uranus','Neptune','Milky Way'],\n",
    "    'Days':['10','11','12','13','14','15'],\n",
    "    'Adjective':['excited','nervous','afraid','confused','dry','cold','weird','rainy','snowy','warm','happy','safe','harsh'],\n",
    "    'Noun':['room','friend','pet','home-town','bookshelf','video-game'],\n",
    "    'Relative':['Uncle','Sister','Brother','Aunty','Cousin','Bestfriend','Colleague'],\n",
    "    'Verb':['go','run','adapt','shout','wave','laugh']\n",
    "}\n",
    "#Selects a random word from global dictionary\n",
    "def add_word(type,local_dict):\n",
    "    words = local_dict[type]\n",
    "    count = len(words)-1\n",
    "    index = random.randint(0,count)\n",
    "    return local_dict[type].pop(index)\n",
    "#Creating a local dictionary of words that are once used in story and not affecting the global dictionary\n",
    "def madlibs_generator():\n",
    "    local_dict = copy.deepcopy(global_dict)\n",
    "    return madlibs.format(\n",
    "        add_word('Name',local_dict),\n",
    "        add_word('Planet',local_dict),\n",
    "        add_word('Days',local_dict),\n",
    "        add_word('Adjective',local_dict),\n",
    "        add_word('Noun',local_dict),\n",
    "        add_word('Adjective',local_dict),\n",
    "        add_word('Relative',local_dict),\n",
    "        add_word('Adjective',local_dict),\n",
    "        add_word('Verb',local_dict),\n",
    "        add_word('Adjective',local_dict),\n",
    "        add_word('Adjective',local_dict)\n",
    "        )\n",
    "print('Hey! the story is ready...')\n",
    "print(madlibs_generator())\n"
   ]
  },
  {
   "cell_type": "code",
   "execution_count": null,
   "metadata": {},
   "outputs": [],
   "source": []
  }
 ],
 "metadata": {
  "kernelspec": {
   "display_name": "Python 3",
   "language": "python",
   "name": "python3"
  },
  "language_info": {
   "codemirror_mode": {
    "name": "ipython",
    "version": 3
   },
   "file_extension": ".py",
   "mimetype": "text/x-python",
   "name": "python",
   "nbconvert_exporter": "python",
   "pygments_lexer": "ipython3",
   "version": "3.7.9"
  }
 },
 "nbformat": 4,
 "nbformat_minor": 4
}
