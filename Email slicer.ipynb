{
 "cells": [
  {
   "cell_type": "markdown",
   "metadata": {},
   "source": [
    "# Email slicer "
   ]
  },
  {
   "cell_type": "markdown",
   "metadata": {},
   "source": [
    "The program helps get you the username and domain name from an email address. "
   ]
  },
  {
   "cell_type": "code",
   "execution_count": 1,
   "metadata": {},
   "outputs": [
    {
     "name": "stdout",
     "output_type": "stream",
     "text": [
      "Enter your email-id:mayurigpatkar@gmail.com\n",
      "Your username is 'mayurigpatkar' while domain name is 'gmail.com'\n"
     ]
    }
   ],
   "source": [
    "email = input(\"Enter your email-id:\").strip()\n",
    "user_name = email[:email.index(\"@\")]\n",
    "domain_name = email[email.index(\"@\")+1:]\n",
    "print(\"Your username is '{}' while domain name is '{}'\".format(user_name,domain_name))\n"
   ]
  }
 ],
 "metadata": {
  "kernelspec": {
   "display_name": "Python 3",
   "language": "python",
   "name": "python3"
  },
  "language_info": {
   "codemirror_mode": {
    "name": "ipython",
    "version": 3
   },
   "file_extension": ".py",
   "mimetype": "text/x-python",
   "name": "python",
   "nbconvert_exporter": "python",
   "pygments_lexer": "ipython3",
   "version": "3.7.9"
  }
 },
 "nbformat": 4,
 "nbformat_minor": 4
}
